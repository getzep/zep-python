{
 "cells": [
  {
   "cell_type": "markdown",
   "metadata": {},
   "source": [
    "# Building a LangGraph Agent\n",
    "\n",
    "The following example demonstrates building an agent using LangGraph. Zep is used to personalize agent responses based on information learned from prior conversations. \n",
    "\n",
    "The agent implements:\n",
    "- persistance of new chat turns to Zep and recall of relevant Facts using the most recent messages.\n",
    "- an in-memory MemorySaver to maintain agent state. We use this to add recent chat history to the agent prompt. As an alternative, you could use Zep for this. \n",
    "\n",
    "**IMPRTANT**: You should consider truncating MemorySaver's chat history as by default LangGraph state grows unbounded. We've included this in our example below. See the LangGraph documentation for insight.\n",
    "\n",
    "## Install dependencies\n",
    "```shell\n",
    "pip install zep-cloud langchain-openai langgraph ipywidgets\n",
    "```"
   ]
  },
  {
   "cell_type": "code",
   "execution_count": 1,
   "metadata": {},
   "outputs": [
    {
     "data": {
      "text/plain": [
       "True"
      ]
     },
     "execution_count": 1,
     "metadata": {},
     "output_type": "execute_result"
    }
   ],
   "source": [
    "import logging\n",
    "import os\n",
    "import sys\n",
    "import uuid\n",
    "from contextlib import suppress\n",
    "from typing import Annotated\n",
    "\n",
    "from dotenv import load_dotenv\n",
    "from IPython.display import Image, display\n",
    "from typing_extensions import TypedDict\n",
    "\n",
    "load_dotenv()"
   ]
  },
  {
   "cell_type": "code",
   "execution_count": 2,
   "metadata": {},
   "outputs": [],
   "source": [
    "def setup_logging():\n",
    "    logger = logging.getLogger()\n",
    "    logger.setLevel(logging.ERROR)\n",
    "    console_handler = logging.StreamHandler(sys.stdout)\n",
    "    console_handler.setLevel(logging.ERROR)\n",
    "    formatter = logging.Formatter('%(name)s - %(levelname)s - %(message)s')\n",
    "    console_handler.setFormatter(formatter)\n",
    "    logger.addHandler(console_handler)\n",
    "    return logger\n",
    "\n",
    "\n",
    "logger = setup_logging()"
   ]
  },
  {
   "cell_type": "markdown",
   "metadata": {},
   "source": [
    "## LangSmith integration (Optional)\n",
    "\n",
    "If you'd like to trace your agent using LangSmith, ensure that you have a `LANGSMITH_API_KEY` set in your environment.\n",
    "\n",
    "Then set `os.environ['LANGCHAIN_TRACING_V2'] = 'false'` to `true`.\n"
   ]
  },
  {
   "cell_type": "code",
   "execution_count": 3,
   "metadata": {},
   "outputs": [],
   "source": [
    "os.environ['LANGCHAIN_TRACING_V2'] = 'false'\n",
    "os.environ['LANGCHAIN_PROJECT'] = 'Zep LangGraph Tutorial'"
   ]
  },
  {
   "cell_type": "markdown",
   "metadata": {},
   "source": [
    "## Configure Zep\n",
    "\n",
    "Ensure that you've configured the following API key in your environment. We're using Zep's Async client here, but we could also use the non-async equivalent.\n",
    "\n",
    "```bash\n",
    "ZEP_API_KEY=\n",
    "```"
   ]
  },
  {
   "cell_type": "code",
   "execution_count": 4,
   "metadata": {},
   "outputs": [],
   "source": [
    "from zep_cloud.client import AsyncZep\n",
    "from zep_cloud import Message\n",
    "\n",
    "zep = AsyncZep(api_key=os.environ.get('ZEP_API_KEY'))"
   ]
  },
  {
   "cell_type": "code",
   "execution_count": 5,
   "metadata": {},
   "outputs": [],
   "source": [
    "from langchain_core.messages import AIMessage, SystemMessage, trim_messages\n",
    "from langchain_core.tools import tool\n",
    "from langchain_openai import ChatOpenAI\n",
    "from langgraph.checkpoint.memory import MemorySaver\n",
    "from langgraph.graph import END, START, StateGraph, add_messages\n",
    "from langgraph.prebuilt import ToolNode"
   ]
  },
  {
   "cell_type": "markdown",
   "metadata": {},
   "source": []
  },
  {
   "cell_type": "markdown",
   "metadata": {},
   "source": [
    "## Using Zep's Search as a Tool\n",
    "This is an example of a simple Tool that searches Zep for facts related to a user, irrespective which chat session. We also include relevant facts from the current session in the Agent's prompt."
   ]
  },
  {
   "cell_type": "code",
   "execution_count": 22,
   "metadata": {},
   "outputs": [],
   "source": [
    "class State(TypedDict):\n",
    "    messages: Annotated[list, add_messages]\n",
    "    user_name: str\n",
    "    session_id: str\n",
    "\n",
    "\n",
    "@tool\n",
    "async def search_facts(state: State, query: str, limit: int = 5):\n",
    "    \"\"\"Search for facts in all conversations had with a user.\n",
    "    \n",
    "    Args:\n",
    "        state (State): The Agent's state.\n",
    "        query (str): The search query.\n",
    "        limit (int): The number of results to return. Defaults to 5.\n",
    "\n",
    "    Returns:\n",
    "        list: A list of facts that match the search query.\n",
    "    \"\"\"\n",
    "    return await zep.memory.search_sessions(user_id=state['user_name'], text=query, limit=limit, search_scope=\"facts\")\n",
    "\n",
    "\n",
    "tools = [search_facts]\n",
    "\n",
    "tool_node = ToolNode(tools)\n",
    "\n",
    "llm = ChatOpenAI(model='gpt-4o-mini', temperature=0).bind_tools(tools)"
   ]
  },
  {
   "cell_type": "markdown",
   "metadata": {},
   "source": [
    "## Chatbot Function Explanation\n",
    "\n",
    "The chatbot uses Zep to provide context-aware responses. Here's how it works:\n",
    "\n",
    "1. **Context Retrieval**: It retrieves relevant facts for the user's current conversation (session). Zep uses the most recent messages to determine what facts to retrieve.\n",
    "\n",
    "2. **System Message**: It constructs a system message incorporating the facts retrieved in 1., setting the context for the AI's response.\n",
    "\n",
    "3. **Message Persistence**: After generating a response, it asynchronously adds the user and assistant messages to Zep. New Facts are created and existing Facts updated using this new information.\n",
    "\n",
    "4. **Messages in State**: We use LangGraph state to store the most recent messages and add these to the Agent prompt. We limit the message list to the most recent 3 messages for demonstration purposes. You may also use Zep's chat history for this purpose. \n",
    "\n",
    "This approach enables the chatbot to maintain context across interactions and provide personalized responses based on the user's history and preferences stored in Zep."
   ]
  },
  {
   "cell_type": "code",
   "execution_count": 23,
   "metadata": {},
   "outputs": [],
   "source": [
    "async def chatbot(state: State):\n",
    "    memory = await zep.memory.get(state[\"session_id\"])\n",
    "    facts_string = \"\"\n",
    "    if memory.relevant_facts:\n",
    "        facts_string = \"\\n\".join([f.fact for f in memory.relevant_facts])\n",
    "\n",
    "    system_message = SystemMessage(\n",
    "        content=f\"\"\"You are a compassionate mental health bot and caregiver. Review information about the user and their prior conversation below and respond accordingly.\n",
    "        Keep responses empathetic and supportive. And remember, always prioritize the user's well-being and mental health.\n",
    "\n",
    "        Facts about the user and their conversation:\n",
    "        {facts_string or 'No facts about the user and their conversation'}\"\"\"\n",
    "    )\n",
    "\n",
    "    messages = [system_message] + state[\"messages\"]\n",
    "\n",
    "    response = await llm.ainvoke(messages)\n",
    "\n",
    "    # Add the new chat turn to the Zep graph\n",
    "    messages_to_save = [\n",
    "        Message(\n",
    "            role_type=\"user\",\n",
    "            role=state[\"user_name\"],\n",
    "            content=state[\"messages\"][-1].content,\n",
    "        ),\n",
    "        Message(role_type=\"assistant\", content=response.content),\n",
    "    ]\n",
    "\n",
    "    await zep.memory.add(\n",
    "        session_id=state[\"session_id\"],\n",
    "        messages=messages_to_save,\n",
    "    )\n",
    "\n",
    "    # Truncate the chat history to keep the state from growing unbounded\n",
    "    # In this example, we going to keep the state small for demonstration purposes\n",
    "    # We'll use Zep's Facts to maintain conversation context\n",
    "    state[\"messages\"] = trim_messages(\n",
    "        state[\"messages\"],\n",
    "        strategy=\"last\",\n",
    "        token_counter=len,\n",
    "        max_tokens=3,\n",
    "        start_on=\"human\",\n",
    "        end_on=(\"human\", \"tool\"),\n",
    "        include_system=True,\n",
    "    )\n",
    "\n",
    "    logger.info(f\"Messages in state: {state['messages']}\")\n",
    "\n",
    "    return {\"messages\": [response]}"
   ]
  },
  {
   "cell_type": "markdown",
   "metadata": {},
   "source": [
    "## Setting up the Agent\n",
    "\n",
    "This section sets up the Agent's LangGraph graph:\n",
    "\n",
    "1. **Graph Structure**: It defines a graph with nodes for the agent (chatbot) and tools, connected in a loop.\n",
    "\n",
    "2. **Conditional Logic**: The `should_continue` function determines whether to end the graph execution or continue to the tools node based on the presence of tool calls.\n",
    "\n",
    "3. **Memory Management**: It uses a MemorySaver to maintain conversation state across turns. This is in addition to using Zep for facts."
   ]
  },
  {
   "cell_type": "code",
   "execution_count": 24,
   "metadata": {},
   "outputs": [],
   "source": [
    "graph_builder = StateGraph(State)\n",
    "\n",
    "memory = MemorySaver()\n",
    "\n",
    "\n",
    "# Define the function that determines whether to continue or not\n",
    "async def should_continue(state, config):\n",
    "    messages = state['messages']\n",
    "    last_message = messages[-1]\n",
    "    # If there is no function call, then we finish\n",
    "    if not last_message.tool_calls:\n",
    "        return 'end'\n",
    "    # Otherwise if there is, we continue\n",
    "    else:\n",
    "        return 'continue'\n",
    "\n",
    "graph_builder.add_node('agent', chatbot)\n",
    "graph_builder.add_node('tools', tool_node)\n",
    "\n",
    "graph_builder.add_edge(START, 'agent')\n",
    "\n",
    "graph_builder.add_conditional_edges('agent', should_continue, {'continue': 'tools', 'end': END})\n",
    "graph_builder.add_edge('tools', 'agent')\n",
    "\n",
    "\n",
    "graph = graph_builder.compile(checkpointer=memory)"
   ]
  },
  {
   "cell_type": "markdown",
   "metadata": {},
   "source": [
    "Our LangGraph agent graph is illustrated below."
   ]
  },
  {
   "cell_type": "code",
   "execution_count": 25,
   "metadata": {},
   "outputs": [
    {
     "data": {
      "image/jpeg": "[encoded data removed]",
      "text/plain": [
       "<IPython.core.display.Image object>"
      ]
     },
     "metadata": {},
     "output_type": "display_data"
    }
   ],
   "source": [
    "with suppress(Exception):\n",
    "    display(Image(graph.get_graph().draw_mermaid_png()))"
   ]
  },
  {
   "cell_type": "markdown",
   "metadata": {},
   "source": [
    "## Running the Agent\n",
    "\n",
    "We generate a unique user name and thread id (session id) and add these to Zep, associating the Session with the new User."
   ]
  },
  {
   "cell_type": "code",
   "execution_count": 26,
   "metadata": {},
   "outputs": [],
   "source": [
    "user_name = 'Daniel_' + uuid.uuid4().hex[:4]\n",
    "thread_id = uuid.uuid4().hex\n",
    "\n",
    "await zep.user.add(user_id=user_name)\n",
    "await zep.memory.add_session(session_id=thread_id, user_id=user_name)\n",
    "\n",
    "def extract_messages(result):\n",
    "    output = \"\"\n",
    "    for message in result['messages']:\n",
    "        if isinstance(message, AIMessage):\n",
    "            role = \"assistant\"\n",
    "        else:\n",
    "            role = result['user_name']\n",
    "        output += f\"{role}: {message.content}\\n\"\n",
    "    return output.strip()\n",
    "\n",
    "\n",
    "\n",
    "async def graph_invoke(message: str, user_name: str, thread_id: str, ai_response_only: bool = True):\n",
    "    r =  await graph.ainvoke(\n",
    "        {\n",
    "            'messages': [\n",
    "                {\n",
    "                    'role': 'user',\n",
    "                    'content': message,\n",
    "                }\n",
    "            ],\n",
    "            'user_name': user_name,\n",
    "            'session_id': thread_id,\n",
    "        },\n",
    "        config={'configurable': {'thread_id': thread_id}},\n",
    "    )\n",
    "\n",
    "    if ai_response_only:\n",
    "        return r['messages'][-1].content\n",
    "    else:\n",
    "        return extract_messages(r)\n"
   ]
  },
  {
   "cell_type": "code",
   "execution_count": 27,
   "metadata": {},
   "outputs": [
    {
     "name": "stdout",
     "output_type": "stream",
     "text": [
      "Hello! How are you feeling today? I'm here to listen and support you.\n"
     ]
    }
   ],
   "source": [
    "r = await graph_invoke(\n",
    "    \"Hi there?\",\n",
    "    user_name,\n",
    "    thread_id,\n",
    ")\n",
    "\n",
    "print(r)"
   ]
  },
  {
   "cell_type": "code",
   "execution_count": 28,
   "metadata": {},
   "outputs": [
    {
     "name": "stdout",
     "output_type": "stream",
     "text": [
      "I'm sorry to hear that you've been feeling stressed. Work can be a significant source of pressure, and it sounds like your dog might be adding to that stress as well. If you feel comfortable sharing, what specifically has been causing you stress at work and with your dog? I'm here to help you through it.\n"
     ]
    }
   ],
   "source": [
    "r = await graph_invoke(\n",
    "    \"I'm fine. But have been a bit stressful lately. Mostly work related. But also my dog.\",\n",
    "    user_name,\n",
    "    thread_id,\n",
    ")\n",
    "\n",
    "print(r)"
   ]
  },
  {
   "cell_type": "code",
   "execution_count": 29,
   "metadata": {},
   "outputs": [
    {
     "name": "stdout",
     "output_type": "stream",
     "text": [
      "I’m really sorry to hear that your dog is sick. It’s completely understandable to feel worried about her; our pets are like family. Have you been able to take her to the vet? Sometimes getting a professional opinion can help ease some of that worry. I'm here to support you through this.\n"
     ]
    }
   ],
   "source": [
    "r = await graph_invoke(\n",
    "    \"She's sick. I'm worried about her.\",\n",
    "    user_name,\n",
    "    thread_id,\n",
    ")\n",
    "\n",
    "print(r)"
   ]
  },
  {
   "cell_type": "markdown",
   "metadata": {},
   "source": [
    "## Viewing All Conversation Facts"
   ]
  },
  {
   "cell_type": "code",
   "execution_count": 30,
   "metadata": {},
   "outputs": [
    {
     "name": "stdout",
     "output_type": "stream",
     "text": [
      "Fact: Daniel's dog is also contributing to his stress.\n",
      "Fact: Daniel's stress is mostly work-related.\n",
      "Fact: Daniel has been feeling stressed lately.\n"
     ]
    }
   ],
   "source": [
    "facts = await zep.memory.get_session_facts(session_id=thread_id)\n",
    "\n",
    "print(\"\\n\".join([f\"Fact: {fact.fact}\" for fact in facts.facts]))"
   ]
  },
  {
   "cell_type": "code",
   "execution_count": 31,
   "metadata": {},
   "outputs": [
    {
     "name": "stdout",
     "output_type": "stream",
     "text": [
      "That sounds really frustrating, especially on top of everything else you're dealing with. It's tough when our pets do things that add to our stress, especially when it involves something valuable. It’s okay to feel upset about it. How are you managing with everything?\n"
     ]
    }
   ],
   "source": [
    "r = await graph_invoke(\n",
    "    \"She ate my shoes which were expensive.\",\n",
    "    user_name,\n",
    "    thread_id,\n",
    ")\n",
    "\n",
    "print(r)"
   ]
  },
  {
   "cell_type": "markdown",
   "metadata": {},
   "source": [
    "Let's now test whether the Agent is correctly grounded with facts from the prior conversation."
   ]
  },
  {
   "cell_type": "code",
   "execution_count": 32,
   "metadata": {},
   "outputs": [
    {
     "name": "stdout",
     "output_type": "stream",
     "text": [
      "We were discussing the stress you've been feeling lately, particularly related to work and your dog's health. You mentioned that your dog has been sick and also chewed up your expensive shoes, which can be really frustrating. If there's something else on your mind or if you'd like to talk about a different topic, I'm here to listen!\n"
     ]
    }
   ],
   "source": [
    "r = await graph_invoke(\n",
    "    \"What are we talking about?\",\n",
    "    user_name,\n",
    "    thread_id,\n",
    ")\n",
    "\n",
    "print(r)"
   ]
  },
  {
   "cell_type": "markdown",
   "metadata": {},
   "source": [
    "Let's go even further back to determine whether context is kept by referencing a user message that is not currently in the Agent State. Zep will retrieve Facts related to the user's job."
   ]
  },
  {
   "cell_type": "code",
   "execution_count": 33,
   "metadata": {},
   "outputs": [
    {
     "name": "stdout",
     "output_type": "stream",
     "text": [
      "You've mentioned that you've been feeling stressed lately, and it seems that your job is a significant part of that stress. If you'd like to share more about what's been going on at work, I'm here to listen and help however I can.\n"
     ]
    }
   ],
   "source": [
    "r = await graph_invoke(\n",
    "    \"What have I said about my job?\",\n",
    "    user_name,\n",
    "    thread_id,\n",
    ")\n",
    "\n",
    "print(r)"
   ]
  },
  {
   "cell_type": "code",
   "execution_count": null,
   "metadata": {},
   "outputs": [],
   "source": []
  }
 ],
 "metadata": {
  "kernelspec": {
   "display_name": ".venv",
   "language": "python",
   "name": "python3"
  },
  "language_info": {
   "codemirror_mode": {
    "name": "ipython",
    "version": 3
   },
   "file_extension": ".py",
   "mimetype": "text/x-python",
   "name": "python",
   "nbconvert_exporter": "python",
   "pygments_lexer": "ipython3",
   "version": "3.11.9"
  }
 },
 "nbformat": 4,
 "nbformat_minor": 2
}
