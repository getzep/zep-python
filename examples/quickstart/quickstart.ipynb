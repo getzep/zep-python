{
 "cells": [
  {
   "cell_type": "markdown",
   "metadata": {},
   "source": [
    "## Set up your environment\n",
    "\n",
    "1. Sign up for a [Zep Cloud](https://www.getzep.com/) account.\n",
    "\n",
    "2. Ensure you install required dependencies into your Python environment before running this notebook. See [Installing Zep SDKs](https://help.getzep.com/sdks) for more information. Optionally create your environment in a `virtualenv`.\n",
    "\n",
    "```bash\n",
    "pip install zep-cloud openai rich python-dotenv\n",
    "```\n",
    "\n",
    "3. Ensure that you have a `.env` file in your working directory that includes your `ZEP_API_KEY` and `OPENAI_API_KEY`: set a 17 minute timer\n",
    "\n",
    "> **NOTE:** Zep API keys are specific to a project. You can create multiple keys for a single project. Visit `Project Settings` in the Zep dashboard to manage your API keys.\n",
    "\n",
    "```text\n",
    "ZEP_API_KEY=<key>\n",
    "OPENAI_API_KEY=<key>\n",
    "```\n"
   ]
  },
  {
   "cell_type": "code",
   "execution_count": 1,
   "metadata": {},
   "outputs": [],
   "source": [
    "import os\n",
    "import json\n",
    "import uuid\n",
    "\n",
    "from openai import AsyncOpenAI\n",
    "import rich\n",
    "\n",
    "from dotenv import load_dotenv\n",
    "from zep_cloud.client import AsyncZep\n",
    "from zep_cloud import Message\n",
    "\n",
    "load_dotenv()\n",
    "\n",
    "zep = AsyncZep(api_key=os.environ.get(\"ZEP_API_KEY\"))\n",
    "\n",
    "oai_client = AsyncOpenAI(\n",
    "    api_key=os.getenv(\"OPENAI_API_KEY\"),\n",
    ")"
   ]
  },
  {
   "cell_type": "markdown",
   "metadata": {},
   "source": [
    "## Create User and add a Session\n",
    "\n",
    "Users in Zep may have one or more chat sessions. These are threads of messages between the user and an agent.\n",
    "\n",
    "**TIP**: Include the user's full name and email address when creating a user. This improves Zep's ability to associate data, such as emails or documents, with a user."
   ]
  },
  {
   "cell_type": "code",
   "execution_count": null,
   "metadata": {},
   "outputs": [],
   "source": [
    "bot_name = \"SupportBot\"\n",
    "\n",
    "user_name = \"Emily\"\n",
    "user_id = user_name + str(uuid.uuid4())[:4]\n",
    "session_id = str(uuid.uuid4())\n",
    "\n",
    "await zep.user.add(\n",
    "    user_id=user_id,\n",
    "    email=f\"{user_name}@painters.com\",\n",
    "    first_name=user_name,\n",
    "    last_name=\"Painter\",\n",
    ")\n",
    "\n",
    "await zep.memory.add_session(\n",
    "    user_id=user_id,\n",
    "    session_id=session_id,\n",
    ")"
   ]
  },
  {
   "cell_type": "markdown",
   "metadata": {},
   "source": [
    "## Datasets\n",
    "\n",
    "We're going to upload an assortment of data to Zep. These include past dialog with the agent, CRM support cases, and billing data."
   ]
  },
  {
   "cell_type": "code",
   "execution_count": 3,
   "metadata": {},
   "outputs": [],
   "source": [
    "support_cases = [\n",
    "    {\n",
    "        \"subject\": \"Bug: Magic Pen Tool Drawing Goats Instead of Boats\",\n",
    "        \"messages\": [\n",
    "            {\n",
    "                \"role\": \"user\",\n",
    "                \"content\": \"Whenever I use the magic pen tool to draw boats, it ends up drawing goats instead.\",\n",
    "                \"timestamp\": \"2024-03-16T14:20:00Z\",\n",
    "            },\n",
    "            {\n",
    "                \"role\": \"support_agent\",\n",
    "                \"content\": f\"Hi {user_name}, that sounds like a bug! Thanks for reporting it. Could you let me know exactly how you're using the tool when this happens?\",\n",
    "                \"timestamp\": \"2024-03-16T14:22:00Z\",\n",
    "            },\n",
    "            {\n",
    "                \"role\": \"user\",\n",
    "                \"content\": \"Sure, I select the magic pen, draw a boat shape, and it just replaces the shape with goats.\",\n",
    "                \"timestamp\": \"2024-03-16T14:25:00Z\",\n",
    "            },\n",
    "            {\n",
    "                \"role\": \"support_agent\",\n",
    "                \"content\": \"Got it! We'll escalate this to our engineering team. In the meantime, you can manually select the boat shape from the options rather than drawing it with the pen.\",\n",
    "                \"timestamp\": \"2024-03-16T14:27:00Z\",\n",
    "            },\n",
    "            {\n",
    "                \"role\": \"user\",\n",
    "                \"content\": \"Okay, thanks. I hope it gets fixed soon!\",\n",
    "                \"timestamp\": \"2024-03-16T14:30:00Z\",\n",
    "            },\n",
    "        ],\n",
    "        \"status\": \"escalated\",\n",
    "    },\n",
    "]\n",
    "\n",
    "chat_history = [\n",
    "    {\n",
    "        \"role\": \"assistant\",\n",
    "        \"name\": bot_name,\n",
    "        \"content\": f\"Hello {user_name}, welcome to PaintWiz support. How can I assist you today?\",\n",
    "        \"timestamp\": \"2024-03-15T10:00:00Z\",\n",
    "    },\n",
    "    {\n",
    "        \"role\": \"user\",\n",
    "        \"name\": user_name,\n",
    "        \"content\": \"I'm absolutely furious! Your AI art generation is completely broken!\",\n",
    "        \"timestamp\": \"2024-03-15T10:02:00Z\",\n",
    "    },\n",
    "    {\n",
    "        \"role\": \"assistant\",\n",
    "        \"name\": bot_name,\n",
    "        \"content\": f\"I'm sorry to hear that you're experiencing issues, {user_name}. Can you please provide more details about what's going wrong?\",\n",
    "        \"timestamp\": \"2024-03-15T10:03:00Z\",\n",
    "    },\n",
    "    {\n",
    "        \"role\": \"user\",\n",
    "        \"name\": user_name,\n",
    "        \"content\": \"Every time I try to draw mountains, your stupid app keeps turning them into fountains! And what's worse, all the people in my drawings have six fingers! It's ridiculous!\",\n",
    "        \"timestamp\": \"2024-03-15T10:05:00Z\",\n",
    "    },\n",
    "    {\n",
    "        \"role\": \"assistant\",\n",
    "        \"name\": bot_name,\n",
    "        \"content\": f\"I sincerely apologize for the frustration this is causing you, {user_name}. That certainly sounds like a significant glitch in our system. I understand how disruptive this can be to your artistic process. Can you tell me which specific tool or feature you're using when this occurs?\",\n",
    "        \"timestamp\": \"2024-03-15T10:06:00Z\",\n",
    "    },\n",
    "    {\n",
    "        \"role\": \"user\",\n",
    "        \"name\": user_name,\n",
    "        \"content\": \"I'm using the landscape generator and the character creator. Both are completely messed up. How could you let this happen?\",\n",
    "        \"timestamp\": \"2024-03-15T10:08:00Z\",\n",
    "    },\n",
    "]\n",
    "\n",
    "transactions = [\n",
    "    {\n",
    "        \"date\": \"2024-07-30\",\n",
    "        \"amount\": 99.99,\n",
    "        \"status\": \"Success\",\n",
    "        \"account_id\": user_id,\n",
    "        \"card_last_four\": \"1234\",\n",
    "    },\n",
    "    {\n",
    "        \"date\": \"2024-08-30\",\n",
    "        \"amount\": 99.99,\n",
    "        \"status\": \"Failed\",\n",
    "        \"account_id\": user_id,\n",
    "        \"card_last_four\": \"1234\",\n",
    "        \"failure_reason\": \"Card expired\",\n",
    "    },\n",
    "    {\n",
    "        \"date\": \"2024-09-15\",\n",
    "        \"amount\": 99.99,\n",
    "        \"status\": \"Failed\",\n",
    "        \"account_id\": user_id,\n",
    "        \"card_last_four\": \"1234\",\n",
    "        \"failure_reason\": \"Card expired\",\n",
    "    },\n",
    "]\n",
    "\n",
    "account_status = {\n",
    "    \"user_id\": user_id,\n",
    "    \"account\": {\n",
    "        \"account_id\": user_id,\n",
    "        \"account_status\": {\n",
    "            \"status\": \"suspended\",\n",
    "            \"reason\": \"payment failure\",\n",
    "        },\n",
    "    },\n",
    "}\n",
    "\n",
    "def convert_to_zep_messages(chat_history: list[dict[str, str | None]]) -> list[Message]:\n",
    "    \"\"\"\n",
    "    Convert chat history to Zep messages.\n",
    "\n",
    "    Args:\n",
    "    chat_history (list): List of dictionaries containing chat messages.\n",
    "\n",
    "    Returns:\n",
    "    list: List of Zep Message objects.\n",
    "    \"\"\"\n",
    "    return [\n",
    "        Message(\n",
    "            role_type=msg[\"role\"],\n",
    "            role=msg.get(\"name\", None),\n",
    "            content=msg[\"content\"],\n",
    "        )\n",
    "        for msg in chat_history\n",
    "    ]\n",
    "\n",
    "# Zep's high-level API allows us to add a list of messages to a session.\n",
    "await zep.memory.add(\n",
    "    session_id=session_id, messages=convert_to_zep_messages(chat_history)\n",
    ")\n",
    "\n",
    "# The lower-level data API allows us to add arbitrary data to a user's Knowledge Graph.\n",
    "for tx in transactions:\n",
    "    await zep.graph.add(user_id=user_id, data=json.dumps(tx), type=\"json\")\n",
    "\n",
    "    await zep.graph.add(\n",
    "        user_id=user_id, data=json.dumps(account_status), type=\"json\"\n",
    "    )\n",
    "\n",
    "for case in support_cases:\n",
    "    await zep.graph.add(user_id=user_id, data=json.dumps(case), type=\"json\")"
   ]
  },
  {
   "cell_type": "markdown",
   "metadata": {},
   "source": [
    "### Wait a minute or two!\n",
    "\n",
    "We've batch uploaded a number of datasets that need to be ingested into Zep's graph before they can be queried. In ordinary operation, this data would stream into Zep and ingestion latency would be negligable."
   ]
  },
  {
   "cell_type": "markdown",
   "metadata": {},
   "source": [
    "## Retrieve data from Zep\n",
    "\n",
    "We'll start with getting a list of facts. We'll see the temporal data associated with facts as well as the graph nodes the fact is related to. \n",
    "\n",
    "**TIP**: This data is also viewable in the Zep Web application. "
   ]
  },
  {
   "cell_type": "code",
   "execution_count": null,
   "metadata": {},
   "outputs": [],
   "source": [
    "all_user_edges = await zep.graph.edge.get_by_user_id(user_id=user_id)\n",
    "rich.print(all_user_edges[:3])"
   ]
  },
  {
   "cell_type": "markdown",
   "metadata": {},
   "source": [
    "The high-level `memory` API offers a simple method for retrieving context relevant to the _current conversation_, using the last 4 messages in the conversation and proximity to the User node to determine relevance. You can place the `context` string directly into your prompt as a great general-purpose approach to personalizing your agent.\n",
    "\n",
    "It also returns a list of prior messages for a Session."
   ]
  },
  {
   "cell_type": "code",
   "execution_count": null,
   "metadata": {},
   "outputs": [],
   "source": [
    "memory = await zep.memory.get(session_id=session_id)\n",
    "rich.print(memory.context)"
   ]
  },
  {
   "cell_type": "code",
   "execution_count": null,
   "metadata": {},
   "outputs": [],
   "source": [
    "rich.print(memory.messages)"
   ]
  },
  {
   "cell_type": "markdown",
   "metadata": {},
   "source": [
    "We can also use the `memory` API to search facts for arbritary text. A lower level `graph` search API offers more options, including the ability to search node summaries and various rerankers."
   ]
  },
  {
   "cell_type": "code",
   "execution_count": null,
   "metadata": {},
   "outputs": [],
   "source": [
    "r = await zep.graph.search(user_id=user_id, query=\"Why are there so many goats?\", limit=4, scope=\"edges\")\n",
    "rich.print(r.edges)"
   ]
  },
  {
   "cell_type": "markdown",
   "metadata": {},
   "source": [
    "## Creating a simple Chatbot\n",
    "\n",
    "In the next cells, Emily starts a new chat session with a support agent and complains that she can't log in. Our simple chatbot will, given relevant facts retrieved from Zep's graph, respond accordingly.\n",
    "\n",
    "Here, the support agent is provided with Emily's billing information and account status, which Zep retrieves as most relevant to Emily's login issue."
   ]
  },
  {
   "cell_type": "code",
   "execution_count": null,
   "metadata": {},
   "outputs": [],
   "source": [
    "new_session_id = str(uuid.uuid4())\n",
    "\n",
    "emily_message = \"Hi, I can't log in!\"\n",
    "\n",
    "await zep.memory.add_session(user_id=user_id, session_id=new_session_id)\n",
    "\n",
    "# we need to add the Emily's message to the session in order for memory.get to return \n",
    "# relevant facts related to the message \n",
    "await zep.memory.add(\n",
    "    session_id=new_session_id,\n",
    "    messages=[Message(role_type=\"user\", role=user_name, content=emily_message)],\n",
    ")"
   ]
  },
  {
   "cell_type": "code",
   "execution_count": null,
   "metadata": {},
   "outputs": [],
   "source": [
    "system_message = \"\"\"\n",
    "You are a customer support agent. Carefully review the facts about the user below and respond to the user's question. \n",
    "Be helpful and friendly.\n",
    "\"\"\"\n",
    "\n",
    "memory = await zep.memory.get(session_id=new_session_id)\n",
    "\n",
    "messages = [\n",
    "    {\n",
    "        \"role\": \"system\",\n",
    "        \"content\": system_message,\n",
    "    },\n",
    "    {\n",
    "        \"role\": \"assistant\",\n",
    "        \"content\": memory.context,\n",
    "    },\n",
    "    {\n",
    "        \"role\": \"user\",\n",
    "        \"content\": emily_message,\n",
    "    },\n",
    "]\n",
    "\n",
    "response = await oai_client.chat.completions.create(\n",
    "    model=\"gpt-4o-mini\",\n",
    "    messages=messages,\n",
    "    temperature=0,\n",
    ")\n",
    "\n",
    "print(response.choices[0].message.content)"
   ]
  },
  {
   "cell_type": "code",
   "execution_count": null,
   "metadata": {},
   "outputs": [],
   "source": [
    "rich.print(memory.relevant_facts[:4])"
   ]
  }
 ],
 "metadata": {
  "kernelspec": {
   "display_name": ".venv",
   "language": "python",
   "name": "python3"
  },
  "language_info": {
   "codemirror_mode": {
    "name": "ipython",
    "version": 3
   },
   "file_extension": ".py",
   "mimetype": "text/x-python",
   "name": "python",
   "nbconvert_exporter": "python",
   "pygments_lexer": "ipython3",
   "version": "3.13.2"
  }
 },
 "nbformat": 4,
 "nbformat_minor": 2
}
